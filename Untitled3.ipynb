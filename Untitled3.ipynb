{
 "cells": [
  {
   "cell_type": "code",
   "execution_count": 46,
   "id": "165460de",
   "metadata": {},
   "outputs": [],
   "source": [
    "import pandas as pd\n",
    "df=pd.read_csv(r\"C:\\Users\\Shashwat\\Downloads\\archive (3)\\creditcard.csv\")"
   ]
  },
  {
   "cell_type": "code",
   "execution_count": 47,
   "id": "90a8cddd",
   "metadata": {},
   "outputs": [],
   "source": [
    "df0=df[df['Class']==0]\n",
    "df1=df[df['Class']==1]"
   ]
  },
  {
   "cell_type": "code",
   "execution_count": 72,
   "id": "88bc5450",
   "metadata": {},
   "outputs": [
    {
     "name": "stdout",
     "output_type": "stream",
     "text": [
      "<class 'pandas.core.frame.DataFrame'>\n",
      "RangeIndex: 284807 entries, 0 to 284806\n",
      "Data columns (total 31 columns):\n",
      " #   Column  Non-Null Count   Dtype  \n",
      "---  ------  --------------   -----  \n",
      " 0   Time    284807 non-null  float64\n",
      " 1   V1      284807 non-null  float64\n",
      " 2   V2      284807 non-null  float64\n",
      " 3   V3      284807 non-null  float64\n",
      " 4   V4      284807 non-null  float64\n",
      " 5   V5      284807 non-null  float64\n",
      " 6   V6      284807 non-null  float64\n",
      " 7   V7      284807 non-null  float64\n",
      " 8   V8      284807 non-null  float64\n",
      " 9   V9      284807 non-null  float64\n",
      " 10  V10     284807 non-null  float64\n",
      " 11  V11     284807 non-null  float64\n",
      " 12  V12     284807 non-null  float64\n",
      " 13  V13     284807 non-null  float64\n",
      " 14  V14     284807 non-null  float64\n",
      " 15  V15     284807 non-null  float64\n",
      " 16  V16     284807 non-null  float64\n",
      " 17  V17     284807 non-null  float64\n",
      " 18  V18     284807 non-null  float64\n",
      " 19  V19     284807 non-null  float64\n",
      " 20  V20     284807 non-null  float64\n",
      " 21  V21     284807 non-null  float64\n",
      " 22  V22     284807 non-null  float64\n",
      " 23  V23     284807 non-null  float64\n",
      " 24  V24     284807 non-null  float64\n",
      " 25  V25     284807 non-null  float64\n",
      " 26  V26     284807 non-null  float64\n",
      " 27  V27     284807 non-null  float64\n",
      " 28  V28     284807 non-null  float64\n",
      " 29  Amount  284807 non-null  float64\n",
      " 30  Class   284807 non-null  int64  \n",
      "dtypes: float64(30), int64(1)\n",
      "memory usage: 67.4 MB\n"
     ]
    },
    {
     "data": {
      "text/plain": [
       "(None,\n",
       " count    284807.000000\n",
       " mean         88.349619\n",
       " std         250.120109\n",
       " min           0.000000\n",
       " 25%           5.600000\n",
       " 50%          22.000000\n",
       " 75%          77.165000\n",
       " max       25691.160000\n",
       " Name: Amount, dtype: float64)"
      ]
     },
     "execution_count": 72,
     "metadata": {},
     "output_type": "execute_result"
    }
   ],
   "source": [
    "df['Class'].unique()\n",
    "\n",
    "df0=df0.sample(492)\n",
    "df0.shape,df1.shape\n",
    "dfnew=pd.concat([df0,df1])\n",
    "dfnew.shape\n",
    "df.info(),df['Amount'].describe()"
   ]
  },
  {
   "cell_type": "code",
   "execution_count": 64,
   "id": "bb9e23bf",
   "metadata": {},
   "outputs": [],
   "source": [
    "from sklearn.model_selection import train_test_split,GridSearchCV\n",
    "from sklearn.ensemble import RandomForestClassifier\n",
    "y=dfnew['Class']\n",
    "X= dfnew.drop(columns=['Class'])\n",
    "\n",
    "model=RandomForestClassifier()\n"
   ]
  },
  {
   "cell_type": "code",
   "execution_count": 54,
   "id": "6bbf7c25",
   "metadata": {},
   "outputs": [
    {
     "data": {
      "text/plain": [
       "RandomForestClassifier()"
      ]
     },
     "execution_count": 54,
     "metadata": {},
     "output_type": "execute_result"
    }
   ],
   "source": [
    " X_train, X_test, y_train, y_test = train_test_split(X, y, test_size=0.3, random_state=2)\n",
    "\n",
    "model.fit(X_train,y_train)"
   ]
  },
  {
   "cell_type": "code",
   "execution_count": 59,
   "id": "cc740b1a",
   "metadata": {},
   "outputs": [
    {
     "data": {
      "text/plain": [
       "0.9358108108108109"
      ]
     },
     "execution_count": 59,
     "metadata": {},
     "output_type": "execute_result"
    }
   ],
   "source": [
    "predi=model.predict(X_test)\n",
    "from sklearn.metrics import accuracy_score,recall_score,precision_score,f1_score\n",
    "accuracy_score(y_test,predi)\n"
   ]
  },
  {
   "cell_type": "code",
   "execution_count": 61,
   "id": "05a7865c",
   "metadata": {},
   "outputs": [
    {
     "data": {
      "text/plain": [
       "0.9054054054054054"
      ]
     },
     "execution_count": 61,
     "metadata": {},
     "output_type": "execute_result"
    }
   ],
   "source": [
    "recall_score(y_test,predi)"
   ]
  },
  {
   "cell_type": "code",
   "execution_count": 67,
   "id": "26462433",
   "metadata": {},
   "outputs": [
    {
     "data": {
      "text/plain": [
       "0.9337979094076654"
      ]
     },
     "execution_count": 67,
     "metadata": {},
     "output_type": "execute_result"
    }
   ],
   "source": [
    "f1_score(y_test,predi)"
   ]
  },
  {
   "cell_type": "code",
   "execution_count": 73,
   "id": "6ab88aeb",
   "metadata": {},
   "outputs": [
    {
     "data": {
      "text/plain": [
       "0.9640287769784173"
      ]
     },
     "execution_count": 73,
     "metadata": {},
     "output_type": "execute_result"
    }
   ],
   "source": [
    "precision_score(y_test,predi)"
   ]
  },
  {
   "cell_type": "code",
   "execution_count": 66,
   "id": "cc39558f",
   "metadata": {},
   "outputs": [
    {
     "name": "stdout",
     "output_type": "stream",
     "text": [
      "Fitting 8 folds for each of 700 candidates, totalling 5600 fits\n"
     ]
    },
    {
     "data": {
      "text/plain": [
       "GridSearchCV(cv=8, estimator=RandomForestClassifier(), n_jobs=-1,\n",
       "             param_grid={'max_depth': [2, 6, 8, 10],\n",
       "                         'max_features': [0.2, 0.4, 0.6, 0.8, 1.0],\n",
       "                         'max_samples': [0.2, 0.4, 0.6, 0.8, 1.0],\n",
       "                         'n_estimators': [20, 60, 80, 100, 120, 140, 160]},\n",
       "             verbose=2)"
      ]
     },
     "execution_count": 66,
     "metadata": {},
     "output_type": "execute_result"
    }
   ],
   "source": [
    "n_estimators=[20,60,80,100,120,140,160]\n",
    "max_features=[0.2,0.4,0.6,0.8,1.0]\n",
    "max_depth=[2,6,8,10]\n",
    "max_samples=[0.2,0.4,0.6, 0.8,1.0]\n",
    "\n",
    "param_grid={\n",
    "    'max_samples':max_samples,\n",
    "    'max_features':max_features,\n",
    "    'max_depth':max_depth,\n",
    "    'n_estimators':n_estimators\n",
    "    \n",
    "}\n",
    "gsrf=GridSearchCV(estimator=model,param_grid=param_grid,cv=8,verbose=2,n_jobs=-1)\n",
    "gsrf.fit(X_train,y_train)"
   ]
  },
  {
   "cell_type": "code",
   "execution_count": 74,
   "id": "feaee9af",
   "metadata": {},
   "outputs": [
    {
     "data": {
      "text/plain": [
       "(0.9375,\n",
       " {'max_depth': 6, 'max_features': 0.2, 'max_samples': 0.6, 'n_estimators': 80})"
      ]
     },
     "execution_count": 74,
     "metadata": {},
     "output_type": "execute_result"
    }
   ],
   "source": [
    "gsrf.best_score_,gsrf.best_params_"
   ]
  }
 ],
 "metadata": {
  "kernelspec": {
   "display_name": "Python 3 (ipykernel)",
   "language": "python",
   "name": "python3"
  },
  "language_info": {
   "codemirror_mode": {
    "name": "ipython",
    "version": 3
   },
   "file_extension": ".py",
   "mimetype": "text/x-python",
   "name": "python",
   "nbconvert_exporter": "python",
   "pygments_lexer": "ipython3",
   "version": "3.9.12"
  }
 },
 "nbformat": 4,
 "nbformat_minor": 5
}
